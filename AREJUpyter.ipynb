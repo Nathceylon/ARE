{
 "cells": [
  {
   "cell_type": "markdown",
   "metadata": {},
   "source": [
    "Modelisation de l'evolution de la repartition des richesses sur une zone A, B et C \n"
   ]
  },
  {
   "cell_type": "markdown",
   "metadata": {},
   "source": [
    "Partie 1 : \n",
    "    Analyse des equations d'etats dans les zones A et B "
   ]
  },
  {
   "cell_type": "code",
   "execution_count": 5,
   "metadata": {},
   "outputs": [],
   "source": [
    "def var_etat_A(PIB, nb_init) :\n",
    "    \"\"\"int * int -> int\n",
    "    retourne l'evolution du nombres de millionaires au lieu A de t a t+1\"\"\"\n",
    "\n",
    "    #nb : int\n",
    "    nb = 0 \n",
    "\n",
    "    if PIB >= 15000  :\n",
    "        nb = nb_init * 1.07\n",
    "\n",
    "    elif PIB <= 4000  :\n",
    "        nb = nb_init * 1.005\n",
    "        \n",
    "    else : \n",
    "        nb = nb_init * 1.03\n",
    "\n",
    "\n",
    "    return int(nb) \n"
   ]
  },
  {
   "cell_type": "code",
   "execution_count": 35,
   "metadata": {},
   "outputs": [
    {
     "ename": "NameError",
     "evalue": "name 'nb_init' is not defined",
     "output_type": "error",
     "traceback": [
      "\u001b[0;31m---------------------------------------------------------------------------\u001b[0m",
      "\u001b[0;31mNameError\u001b[0m                                 Traceback (most recent call last)",
      "\u001b[0;32m<ipython-input-35-dee122b8fa83>\u001b[0m in \u001b[0;36m<module>\u001b[0;34m\u001b[0m\n\u001b[1;32m      9\u001b[0m     \u001b[0;32mreturn\u001b[0m \u001b[0ma\u001b[0m\u001b[0;34m\u001b[0m\u001b[0;34m\u001b[0m\u001b[0m\n\u001b[1;32m     10\u001b[0m \u001b[0;34m\u001b[0m\u001b[0m\n\u001b[0;32m---> 11\u001b[0;31m \u001b[0mvar_A\u001b[0m\u001b[0;34m(\u001b[0m\u001b[0;36m7000\u001b[0m\u001b[0;34m,\u001b[0m \u001b[0;36m1000\u001b[0m\u001b[0;34m,\u001b[0m \u001b[0;36m10\u001b[0m\u001b[0;34m)\u001b[0m\u001b[0;34m\u001b[0m\u001b[0;34m\u001b[0m\u001b[0m\n\u001b[0m",
      "\u001b[0;32m<ipython-input-35-dee122b8fa83>\u001b[0m in \u001b[0;36mvar_A\u001b[0;34m(PIB, pop_init, n)\u001b[0m\n\u001b[1;32m      5\u001b[0m     \u001b[0;31m#i : int\u001b[0m\u001b[0;34m\u001b[0m\u001b[0;34m\u001b[0m\u001b[0;34m\u001b[0m\u001b[0m\n\u001b[1;32m      6\u001b[0m     \u001b[0;32mfor\u001b[0m \u001b[0mi\u001b[0m \u001b[0;32min\u001b[0m \u001b[0mrange\u001b[0m\u001b[0;34m(\u001b[0m\u001b[0;36m0\u001b[0m\u001b[0;34m,\u001b[0m \u001b[0mn\u001b[0m\u001b[0;34m)\u001b[0m \u001b[0;34m:\u001b[0m\u001b[0;34m\u001b[0m\u001b[0;34m\u001b[0m\u001b[0m\n\u001b[0;32m----> 7\u001b[0;31m         \u001b[0ma\u001b[0m \u001b[0;34m=\u001b[0m \u001b[0mvar_etat_A\u001b[0m\u001b[0;34m(\u001b[0m\u001b[0mPIB\u001b[0m\u001b[0;34m,\u001b[0m \u001b[0mnb_init\u001b[0m\u001b[0;34m,\u001b[0m \u001b[0mn\u001b[0m\u001b[0;34m)\u001b[0m\u001b[0;34m\u001b[0m\u001b[0;34m\u001b[0m\u001b[0m\n\u001b[0m\u001b[1;32m      8\u001b[0m \u001b[0;34m\u001b[0m\u001b[0m\n\u001b[1;32m      9\u001b[0m     \u001b[0;32mreturn\u001b[0m \u001b[0ma\u001b[0m\u001b[0;34m\u001b[0m\u001b[0;34m\u001b[0m\u001b[0m\n",
      "\u001b[0;31mNameError\u001b[0m: name 'nb_init' is not defined"
     ]
    }
   ],
   "source": [
    "def var_A(PIB, pop_init, n): \n",
    "    \"\"\"int*int -> int \"\"\"\n",
    "    #a : int \n",
    "    a = 0 \n",
    "    #i : int \n",
    "    for i in range(0, n) :\n",
    "        a = var_etat_A(PIB, nb_init, n)\n",
    "        \n",
    "    return a \n",
    "\n",
    "var_A(7000, 1000, 10)"
   ]
  },
  {
   "cell_type": "code",
   "execution_count": 33,
   "metadata": {},
   "outputs": [
    {
     "data": {
      "image/png": "[encoded data removed]",
      "text/plain": [
       "<Figure size 432x288 with 1 Axes>"
      ]
     },
     "metadata": {
      "needs_background": "light"
     },
     "output_type": "display_data"
    }
   ],
   "source": [
    "\n",
    "import numpy as np\n",
    "import matplotlib.pyplot as plt\n",
    "\n",
    "x = np.array([1, 3, 4, 6])\n",
    "y = np.array([2, 3, 5, 1])\n",
    "plt.plot(x, y)\n",
    "\n",
    "plt.show()"
   ]
  },
  {
   "cell_type": "code",
   "execution_count": 6,
   "metadata": {},
   "outputs": [],
   "source": [
    "def var_etat_B( nb_init) :\n",
    "    \"\"\"int  -> float\n",
    "    retourne l'evolution du nombres de millionaires au lieu A de t a t+1\"\"\"\n",
    "    return int (1.1 * nb_init)"
   ]
  },
  {
   "cell_type": "markdown",
   "metadata": {},
   "source": [
    "Partie 2 : \n",
    "    Analyse des probabilités de depart de A vers B et de B vers C"
   ]
  },
  {
   "cell_type": "code",
   "execution_count": 7,
   "metadata": {},
   "outputs": [],
   "source": [
    "def passage_de_A_B (ind_eduA, ind_eduB, ind_secA, ind_secB) :\n",
    "    \n",
    "    \"\"\"float**4 -> float\n",
    "    calcul la probabilité qu'un millionaires qui quitte son pays A pour vivre vers B en fonction des\n",
    "    conditions sociales de A et de B \"\"\"\n",
    "    \n",
    "    #ind_social_A : float\n",
    "    ind_social_A = ind_eduA + ind_secA\n",
    "\n",
    "    #ind_social_B : float\n",
    "    ind_social_B = ind_eduB + ind_secB\n",
    "\n",
    "    #prob_A_vers_B : float\n",
    "    prob_A_vers_B = 0.0 \n",
    "\n",
    "    if ind_social_A < 110 and ind_social_A > 80 :\n",
    "        if  ind_social_B > ind_social_A and ind_social_B < 160 :\n",
    "             prob_A_vers_B = 0.02\n",
    "\n",
    "        else :\n",
    "            if ind_social_B > 160 :\n",
    "                prob_A_vers_B = 0.035\n",
    "\n",
    "    else :\n",
    "        if  ind_social_B > ind_social_A and ind_social_B < 160 :\n",
    "             prob_A_vers_B = 0.13\n",
    "\n",
    "        else :\n",
    "            if ind_social_B > 160 : \n",
    "                prob_A_vers_B = 0.32\n",
    "            \n",
    "    return prob_A_vers_B\n",
    "            \n",
    "\n"
   ]
  },
  {
   "cell_type": "code",
   "execution_count": null,
   "metadata": {},
   "outputs": [],
   "source": [
    "def passage_de_B_C (taux_impotB, taux_impotC, ind_eduC, ind_secC, patrimoine) : \n",
    "    \"\"\" float ** 5 -> float\n",
    "    retourne la probabilité qu'un millionaire de la zone B (zone developpée) aille vivre sur C pour des raisons\n",
    "    fiscales mais aussi eduction et niveau de vie\"\"\"\n",
    "\n",
    "    #ind_social_C : float\n",
    "    ind_social_C = ind_eduC + ind_secC\n",
    "\n",
    "    #prob_B_vers_C : float\n",
    "    prob_B_vers_C = 0.0\n",
    "\n",
    "\n",
    "    if patrimoine <= 10.0 and patrimoine >= 1.0 : \n",
    "        if taux_impotB >= 0.55 and taux_impotC < 0.2 :\n",
    "            if ind_social_C > 160.0:\n",
    "              prob_B_vers_C = 0.08\n",
    "            else :\n",
    "              prob_B_vers_C = 0.02\n",
    "              \n",
    "        if taux_impotB > 0.4 and taux_impotB < 0.55 and taux_impotC < taux_impotB :\n",
    "            if ind_social_C > 160.0:\n",
    "              prob_B_vers_C = 0.06\n",
    "            else :\n",
    "              prob_B_vers_C = 0.011\n",
    "\n",
    "\n",
    "    \n",
    "    if patrimoine > 10  : \n",
    "        if taux_impotB > 0.6 and taux_impotC < 0.2 :\n",
    "            if ind_social_C > 160 :\n",
    "              prob_B_vers_C = 0.11\n",
    "            else :\n",
    "              prob_B_vers_C = 0.008\n",
    "              \n",
    "        if taux_impotB > 0.4 and taux_impotB < 0.55 and taux_impotC < 0.3 :\n",
    "            if ind_social_C > 160 :\n",
    "              prob_B_vers_C = 0.05\n",
    "            else :\n",
    "              prob_B_vers_C = 0.005\n",
    "            \n",
    "\n",
    "    return prob_B_vers_C"
   ]
  },
  {
   "cell_type": "markdown",
   "metadata": {},
   "source": [
    "UN MODELE REALISTE "
   ]
  },
  {
   "cell_type": "code",
   "execution_count": 10,
   "metadata": {},
   "outputs": [],
   "source": [
    "\n",
    "#int : patrimoine\n",
    "patrimoine =  11\n",
    "\n",
    "#int : nb_A \n",
    "nb_A= 12000\n",
    "#int : nb_B \n",
    "nb_B= 600000\n",
    "#int : nb_C\n",
    "nb_C= 840000\n",
    "\n",
    "#int : PIB\n",
    "PIB = 6160\n",
    "\n",
    "#float : ind_eduA, ind_eduB, ind_secA, ind_secB\n",
    "ind_eduA = 70\n",
    "ind_eduB = 80\n",
    "ind_secA = 60\n",
    "ind_secB = 64\n",
    "\n",
    "#float : taux_impotB, taux_impotC, ind_eduC, ind_secC\n",
    "taux_impotB = 0.5\n",
    "taux_impotC = 0.35\n",
    "ind_eduC = 98.6\n",
    "ind_secC = 90.0\n",
    "\n"
   ]
  },
  {
   "cell_type": "code",
   "execution_count": 13,
   "metadata": {},
   "outputs": [],
   "source": [
    "\n",
    "\n",
    "def evolution_tot(n) :\n",
    "    \"\"\" int-> dict[str : int]\n",
    "    retourne le nombre de riches en A, B, C au bout de n années \"\"\"\n",
    "    \n",
    "    #int : n_final_A\n",
    "    n_final_A = nb_A\n",
    "    #int : n_final_B\n",
    "    n_final_B = nb_B\n",
    "    #int : n_final_C\n",
    "    n_final_C = nb_C\n",
    "    #res : dict[str : int]\n",
    "    res = dict() \n",
    "    \n",
    "    #i : int \n",
    "    for i in range(0, n) :\n",
    "        \n",
    "        n_final_A = var_etat_A(PIB, n_final_A)\n",
    "        n_final_A = n_final_A - n_final_A * passage_de_A_B (ind_eduA, ind_eduB, ind_secA, ind_secB)\n",
    "        \n",
    "        \n",
    "        n_final_B = var_etat_B(n_final_B)\n",
    "        n_final_B = n_final_B  - (n_final_B  * passage_de_B_C (taux_impotB, taux_impotC, ind_eduC, ind_secC, patrimoine)) + n_final_A * passage_de_A_B (ind_eduA, ind_eduB, ind_secA, ind_secB)\n",
    "        \n",
    "        \n",
    "        n_final_C = n_final_C + n_final_B  * passage_de_B_C (taux_impotB, taux_impotC, ind_eduC, ind_secC, patrimoine)\n",
    "       \n",
    "\n",
    "\n",
    "    res[\"A\"] = int(n_final_A)\n",
    "    res[\"B\"] = int(n_final_B)\n",
    "    res[\"C\"] = int(n_final_C)\n",
    "\n",
    "    return res"
   ]
  },
  {
   "cell_type": "code",
   "execution_count": 31,
   "metadata": {
    "scrolled": true
   },
   "outputs": [
    {
     "data": {
      "image/png": "[encoded data removed]",
      "text/plain": [
       "<Figure size 432x288 with 1 Axes>"
      ]
     },
     "metadata": {
      "needs_background": "light"
     },
     "output_type": "display_data"
    }
   ],
   "source": [
    "import matplotlib.pyplot as plt\n",
    "import numpy as np\n",
    "\n",
    "#dict[char : int] : res\n",
    "res = evolution_tot(1)\n",
    "\n",
    "fig = plt.figure()\n",
    "\n",
    "x = [1,2, 3, 4, 5]\n",
    "height = [res[\"A\"],0,  res[\"B\"],0 ,res[\"C\"]]\n",
    "width = 1.0\n",
    "\n",
    "plt.bar(x, height, width, color='b' )\n",
    "\n",
    "plt.savefig('SimpleBar.png')\n",
    "plt.show()"
   ]
  },
  {
   "cell_type": "code",
   "execution_count": null,
   "metadata": {},
   "outputs": [],
   "source": []
  }
 ],
 "metadata": {
  "kernelspec": {
   "display_name": "Python 3",
   "language": "python",
   "name": "python3"
  },
  "language_info": {
   "codemirror_mode": {
    "name": "ipython",
    "version": 3
   },
   "file_extension": ".py",
   "mimetype": "text/x-python",
   "name": "python",
   "nbconvert_exporter": "python",
   "pygments_lexer": "ipython3",
   "version": "3.7.1"
  }
 },
 "nbformat": 4,
 "nbformat_minor": 2
}
