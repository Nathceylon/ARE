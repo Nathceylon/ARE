{
 "cells": [
  {
   "cell_type": "code",
   "execution_count": 267,
   "metadata": {
    "scrolled": true
   },
   "outputs": [],
   "source": [
    "import numpy as np\n",
    "import matplotlib.pyplot as plt\n",
    "import code_ARE "
   ]
  },
  {
   "cell_type": "markdown",
   "metadata": {},
   "source": [
    "# MODÉLISATION DE L'ÉVOLUTION DE LA RÉPARTITION D'INDIVIDUS RICHES SUR DES ZONES A, B ET C "
   ]
  },
  {
   "cell_type": "markdown",
   "metadata": {},
   "source": [
    "_____________________________________________________________________________________________________________________"
   ]
  },
  {
   "cell_type": "markdown",
   "metadata": {},
   "source": [
    "À travers ce projet, on cherche à étudier l'évolution de la répartition des individus riches dans 3 zones A,B et C en tenant compte des différents facteurs qui influent sur cette évolution. \n",
    "La zone A est définie comme une zone peu stable (en sécurité et/ou éducation), la zone B est une zone fiable au niveau de la sécurité et de l'éducation mais possède des conditions fiscales peu avantageuses, et la zone C a les mêmes avantages que la zone B mais avec des conditions fiscales relativement intéressantes.\n",
    "Les enjeux de ce dossier sont de comprendre les vrais impacts des critères sociaux, du pib et du taux d'imposition d'une zone. \n",
    "\n",
    "On pose alors le problème : comment évolue la répartition des individus riches (on considère les personnes ayant un patrimoine supérieur à 1 million d'euros), et quels sont les différents facteurs qui influent sur cette évolution ?\n",
    "\n",
    "Pour tenter de répondre à ce problème nous allons voir tout d'abord les équations d'états des zones A et B, ensuite on étudiera les migrations entre chaque île, et pour finir on s'interresera à un modèle réaliste.\n",
    "On appuiera notre raisonnement sur des données chiffrées issues des divers travaux de Thomas Piketty ainsi que sur plusieurs ressources publiques."
   ]
  },
  {
   "cell_type": "markdown",
   "metadata": {},
   "source": [
    "--------------------------------------------------------------------------------------------------------------------"
   ]
  },
  {
   "cell_type": "markdown",
   "metadata": {},
   "source": [
    "*The aim of this project is to study the evolution of the distribution of rich individuals in 3 zones A, B and C, taking into account the various factors that influence this evolution.\n",
    "Zone A is defined as a zone that is not stable (in terms of security and/or education), Zone B is a zone that is reliable in terms of security and education but has poor tax conditions, and zone C has the same advantages as zone B but with relatively attractive tax conditions.*\n",
    "\n",
    "*The stakes in this file are to understand the real impact of social criteria, of GDP, or of the tax rate of a zone.*\n",
    "\n",
    "*We then pose the following problem: how does the distribution of rich individuals change (we consider people with a wealth of more than 1 million euros), and what are the various factors that influence this evolution?*\n",
    "\n",
    "*To try to answer this problem we will first look at the state equations of zones A and B, then we will study the migration rates between each island, and finally we will look at a realistic model.*\n",
    "\n",
    "*Our reasoning will be based on figures from the various works of Thomas Piketty as well as on several public sources.*"
   ]
  },
  {
   "cell_type": "markdown",
   "metadata": {},
   "source": [
    "---------------------------------------------------------------------------------------------------------------------"
   ]
  },
  {
   "cell_type": "markdown",
   "metadata": {},
   "source": [
    "Il s’agissait de traiter de la « répartition des richesses », qui était le mot d’ordre initial du projet. La répartition des richesses est en effet un sujet phare de l’économie, et certainement l’un des plus débattus de la discipline. On peut la définir comme la manière dont est détenu le patrimoine à l’intérieur d’une société. Son étude, qui a donné lieu à différents modèles en opposition, consiste donc à analyser les inégalités inhérentes au concept afin d’établir un modèle permettant d’expliquer et/ou de prévoir son évolution. \n",
    "\n",
    "Les différentes théories produites sont souvent controversées car elles témoignent par leurs conclusions d’une certaine ligne politique plus ou moins marquée. Notre but était donc simplement de modéliser un système dynamique composé de plusieurs zones aux propriétés différentes en relation les unes avec les autres et d’étudier la répartition du patrimoine à l’intérieur de chacune d’entre elles. Nous nous sommes ainsi d’abord intéressés à un modèle « d’accumulation du capital », se basant sur une répartition initiale hétérogène des patrimoines dans deux zones distinctes. L’évolution du capital y aurait été régie par les revenus, les investissements, l’héritage... et l’interaction entre les deux zones. Cependant cela s’est avéré trop fastidieux et nous avons donc choisi de nous orienter vers l’étude d’un phénomène plus simple à implémenter/modéliser :  la répartition d’individus « riches » liée à des migrations.  \n",
    "\n",
    "Notre travail se rapproche donc plus d’une étude de dynamique de population où l’évolution de la richesse, en ne tenant pas compte des migrations, a été réduite à des calculs simples décrivant l’évolution du nombre d’individus riches, en se basant sur des statistiques réelles. Nous avons donc considéré les trois zones évoquées précédemment en imposant que les migrations se fassent de A vers B et de B vers C et nous avons étudié les différences de comportement en faisant varier certains paramètres."
   ]
  },
  {
   "cell_type": "markdown",
   "metadata": {},
   "source": [
    "---------------------------------------------------------------------------------------------------------------------"
   ]
  },
  {
   "cell_type": "markdown",
   "metadata": {},
   "source": [
    "### Partie 1 : \n",
    "   __ANALYSE DES ÉQUATIONS D'ÉTAT DES ZONES A ET B__"
   ]
  },
  {
   "cell_type": "markdown",
   "metadata": {},
   "source": [
    "*L'équation qui suit représente l'évolution du nombre d'individus riches dans la zone A sans tenir compte des émigrations*"
   ]
  },
  {
   "cell_type": "code",
   "execution_count": 268,
   "metadata": {},
   "outputs": [
    {
     "data": {
      "text/plain": [
       "1004"
      ]
     },
     "execution_count": 268,
     "metadata": {},
     "output_type": "execute_result"
    }
   ],
   "source": [
    "var_etat_A(2700, 1000)"
   ]
  },
  {
   "cell_type": "code",
   "execution_count": 269,
   "metadata": {
    "scrolled": true
   },
   "outputs": [
    {
     "data": {
      "image/png": "[encoded data removed]",
      "text/plain": [
       "<Figure size 432x288 with 1 Axes>"
      ]
     },
     "metadata": {
      "needs_background": "light"
     },
     "output_type": "display_data"
    },
    {
     "data": {
      "text/plain": [
       "[1000, 1030, 1060, 1091, 1123, 1156, 1190, 1225, 1261, 1298, 1336]"
      ]
     },
     "execution_count": 269,
     "metadata": {},
     "output_type": "execute_result"
    }
   ],
   "source": [
    "\n",
    "import numpy as np\n",
    "import matplotlib.pyplot as plt\n",
    "\n",
    "#PIB1 : int \n",
    "PIB1 = 19000\n",
    "#PIB2 : int \n",
    "PIB2 = 9000\n",
    "#PIB3 : int \n",
    "PIB3 = 3000\n",
    "\n",
    "#pop_init : int \n",
    "pop_init = 1000\n",
    "\n",
    "\n",
    "#A : list[int] \n",
    "A = var_A(PIB1, pop_init, 10) \n",
    "\n",
    "#B : list[int] \n",
    "B = var_A(PIB2, pop_init, 10)\n",
    "\n",
    "#C : list[int] \n",
    "C = var_A(PIB3, pop_init, 10)\n",
    "\n",
    "\n",
    "\n",
    "plt.figure()\n",
    "plt.plot(B, \"g\")\n",
    "plt.plot(A, \"r\")\n",
    "plt.plot(C, \"b\")\n",
    "plt.ylabel(\"Nombre d'individus riches\")\n",
    "plt.xlabel(\"Nombre d'années\")\n",
    "\n",
    "plt.show()\n",
    "\n",
    "var_A(7000, 1000, 10) "
   ]
  },
  {
   "cell_type": "markdown",
   "metadata": {},
   "source": [
    "La courbe rouge représente l'évolution du nombre d'individus riches dans le cas où la zone A a un PIB supérieur à 15000 dollars par habitant. La courbe verte correspond au cas où le PIB est entre 4000 et 15000 dollars tandis que la courbe bleue caractérise un PIB inférieur à 4000 dollars par habitant. \n",
    "\n",
    "De part ce graphique, on remarque la forte influence du PIB par habitant d'une zone dans l'évolution du nombres d'individus riches dans la zone A. "
   ]
  },
  {
   "cell_type": "code",
   "execution_count": 270,
   "metadata": {},
   "outputs": [
    {
     "data": {
      "text/plain": [
       "[1000, 1100, 1210, 1331, 1464, 1610, 1771, 1948, 2142, 2356, 2591]"
      ]
     },
     "execution_count": 270,
     "metadata": {},
     "output_type": "execute_result"
    }
   ],
   "source": [
    "var_B(1000, 10)"
   ]
  },
  {
   "cell_type": "markdown",
   "metadata": {},
   "source": [
    "On cherche ici à visualiser l'évolution au sein des zones A et B en fonction du PIB, de la population initiale et du nombre d'années."
   ]
  },
  {
   "cell_type": "code",
   "execution_count": 271,
   "metadata": {
    "scrolled": true
   },
   "outputs": [
    {
     "data": {
      "image/png": "[encoded data removed]",
      "text/plain": [
       "<Figure size 432x288 with 1 Axes>"
      ]
     },
     "metadata": {
      "needs_background": "light"
     },
     "output_type": "display_data"
    }
   ],
   "source": [
    "import numpy as np\n",
    "import matplotlib.pyplot as plt\n",
    "\n",
    "#PIB : int \n",
    "PIB = 19000\n",
    "#pop_init : int \n",
    "pop_init = 1000\n",
    "\n",
    "\n",
    "#A : list[int] \n",
    "A = var_A(PIB, pop_init, 50) \n",
    "\n",
    "#B : list[int] \n",
    "B = var_B(pop_init, 50)\n",
    "\n",
    "plt.figure()\n",
    "plt.plot(B, \"g\")\n",
    "plt.plot(A, \"r\")\n",
    "plt.ylabel(\"Nombre d'individus riches\")\n",
    "plt.xlabel(\"Nombre d'années\")\n",
    "\n",
    "plt.show()\n",
    "\n"
   ]
  },
  {
   "cell_type": "markdown",
   "metadata": {},
   "source": [
    "On a cherché à montrer que même dans le meilleur des cas de la zone A (PIB superieur à 15000 dollars par habitant), la croissance de la zone B reste nettement supérieure.\n",
    "\n",
    "Le PIB par habitant joue donc un rôle important dans l'évolution du nombre d'individus riches, mais cette nette différence d'évolution entre ces 2 zones est sûrement aussi liée à d'autres facteurs comme le niveau d'éducation ou la sécurité par exemple."
   ]
  },
  {
   "cell_type": "markdown",
   "metadata": {},
   "source": [
    "### Partie 2 : \n",
    "   __ANALYSE DES MIGRATIONS DE A VERS B ET DE B VERS C__\n",
    "      "
   ]
  },
  {
   "cell_type": "code",
   "execution_count": 272,
   "metadata": {},
   "outputs": [
    {
     "data": {
      "text/plain": [
       "0.32"
      ]
     },
     "execution_count": 272,
     "metadata": {},
     "output_type": "execute_result"
    }
   ],
   "source": [
    " passage_de_A_B(25, 99, 10, 81)"
   ]
  },
  {
   "cell_type": "code",
   "execution_count": 273,
   "metadata": {
    "scrolled": false
   },
   "outputs": [
    {
     "data": {
      "image/png": "[encoded data removed]",
      "text/plain": [
       "<Figure size 432x288 with 1 Axes>"
      ]
     },
     "metadata": {
      "needs_background": "light"
     },
     "output_type": "display_data"
    },
    {
     "data": {
      "text/plain": [
       "[320, 224, 156, 109, 76, 53, 37, 26, 18, 12, 8]"
      ]
     },
     "execution_count": 273,
     "metadata": {},
     "output_type": "execute_result"
    }
   ],
   "source": [
    "import numpy as np\n",
    "import matplotlib.pyplot as plt\n",
    "\n",
    "#PIB : int \n",
    "PIB = 6000\n",
    "#pop_init : int \n",
    "pop_init = 1000\n",
    "\n",
    "#casA : list[int] \n",
    "casA = liste_depart(10, pop_init, 50, 50, 93, 91)\n",
    "\n",
    "#casB : list[int] \n",
    "casB = liste_depart(10, pop_init, 50, 50, 75, 78)\n",
    "\n",
    "#casC : list[int]\n",
    "casC = liste_depart(10, pop_init, 10, 25, 95, 94)\n",
    "\n",
    "\n",
    "plt.figure()\n",
    "plt.plot(casA, \"g\")\n",
    "plt.plot(casB, \"b\")\n",
    "plt.plot(casC, \"r\")\n",
    "\n",
    "\n",
    "plt.ylabel(\"Nombre d'individus riches qui quittent A pour B\")\n",
    "plt.xlabel(\"Nombre d'années\")\n",
    "\n",
    "plt.show()\n",
    "\n",
    "liste_depart(11, pop_init, 30, 40, 93, 91)"
   ]
  },
  {
   "cell_type": "markdown",
   "metadata": {},
   "source": [
    "Ce graphique montre 3 cas différents :\n",
    "    - le cas A, qui symbolise une migration d'une zone où le niveau de sécurité et d'éducation sont moyens vers une zone où ces niveaux sont très élevés;\n",
    "    - Le cas B qui symbolise une migration d'une zone où le niveau de sécurité et d'éducation sont moyens vers une zone où ces niveaux sont plus élevés sans être idéaux;\n",
    "    - Le cas C qui symbolise une migration d'une zone où le niveau de sécurité et d'éducation sont très bas vers une zone où ces niveaux sont très élevés;"
   ]
  },
  {
   "cell_type": "code",
   "execution_count": 275,
   "metadata": {
    "scrolled": false
   },
   "outputs": [
    {
     "data": {
      "image/png": "[encoded data removed]",
      "text/plain": [
       "<Figure size 432x288 with 1 Axes>"
      ]
     },
     "metadata": {
      "needs_background": "light"
     },
     "output_type": "display_data"
    },
    {
     "data": {
      "text/plain": [
       "[80, 83, 87, 91, 95]"
      ]
     },
     "execution_count": 275,
     "metadata": {},
     "output_type": "execute_result"
    }
   ],
   "source": [
    "import numpy as np\n",
    "import matplotlib.pyplot as plt\n",
    "\n",
    "\n",
    "#patrimoine : int \n",
    "patrimoine = 11\n",
    "#pop_init : int \n",
    "pop_init = 1000\n",
    "#ind_secuA : int \n",
    "ind_secuA = 15 \n",
    "#ind_eduA : int \n",
    "ind_eduA = 25 \n",
    "#ind_secuB : int \n",
    "ind_secuB = 85 \n",
    "#ind_eduB : int \n",
    "ind_eduB = 85\n",
    "\n",
    "\n",
    "#casA2 : list[int] \n",
    "casA2 = liste_depart_BC(50,pop_init, 0.6, 96, 98, 0.15, patrimoine, 30, 40, 93, 91)\n",
    "\n",
    "#casB2 : list[int] \n",
    "casB2 = liste_depart_BC(50,pop_init, 0.45, 81, 78, 0.25, patrimoine, 50, 50, 93, 91)\n",
    "\n",
    "#casC2 : list[int] \n",
    "casC2 = liste_depart_BC(50,pop_init, 0.6, 96, 98, 0.15, 5, 30, 40, 93, 91)\n",
    "\n",
    "\n",
    "\n",
    "plt.figure()\n",
    "plt.plot(casA2, \"g\")\n",
    "plt.plot(casB2, \"r\")\n",
    "plt.plot(casC2, \"b\")\n",
    "\n",
    "\n",
    "plt.ylabel(\"Nombre d'individus riches qui quittent B pour C\")\n",
    "plt.xlabel(\"Nombre d'années\")\n",
    "\n",
    "plt.show()\n",
    "\n",
    "\n",
    "liste_depart_BC(5,pop_init, 0.6, 96, 98, 0.15, 5, 50, 50, 93, 91)"
   ]
  },
  {
   "cell_type": "markdown",
   "metadata": {},
   "source": [
    "Ce graphique montre 3 cas différents:\n",
    " -  le cas A2, qui symbolise une migration d'une zone où le taux d'impôt est très élevé vers une zone où ce taux est très faible avec des indices de sécurité et d'éducation très élevés;\n",
    " -  le cas B2, qui symbolise une migration d'une zone où le taux d'impôt est moyennement élevé vers une zone où ce taux est faible mais quand même significatif avec des indices de sécurité et d'éducation élevés;\n",
    " -  le cas C2, symbolise une zone identique à celle du cas A2 mais pour un individu qui n'est pas considéré comme très riche (plus de 10 Millions d'euros de patrimoine)."
   ]
  },
  {
   "cell_type": "markdown",
   "metadata": {},
   "source": [
    "->  La courbe verte croît dans un premier temps à cause des faibles indices sociaux de A. Cela va alors provoquer une ‘vague’ migratoire vers B. Ainsi la population riche de B augmente considérablement durant quelques années jusqu’à ce qu’il n’y ait plus d’individus riches dans la zone A. Cela va alors provoquer un ralentissement de la croissance de la population riche. Ainsi, par proportionnalité,  il y aura moins d’individus riches qui quitteront B pour C.  \n",
    "\n",
    "->  La courbe rouge croît exponentiellement du fait des conditions moyennes de la zone A, cela va alors entrainer peu de départs vers la zone B. De plus, le taux de départ de B vers C est relativement faible car les avantages fiscaux ne sont que moyennement intéressants. La population riche totale de B augmente, donc par proportionnalité, le nombre d’individus riches qui quittent B vers C est de plus en plus fort.  \n",
    "\n",
    "->  La courbe bleue est croissante malgré le fait qu’il s’agisse d’un cas où la zone A est relativement stable. La migration de A vers B est alors linéaire. De plus, le taux de migration de B vers C reste moins fort que la croissance interne de B. Ainsi, il y a de plus en plus de millionaires qui quittent B pour C ."
   ]
  },
  {
   "cell_type": "markdown",
   "metadata": {},
   "source": [
    "### Partie 3 : \n",
    "   __UN MODELE REALISTE__\n",
    "\n",
    "*Le but de cette partie est de montrer l'importance de l'aspect économique dans la répartition des richesses.* "
   ]
  },
  {
   "cell_type": "code",
   "execution_count": 247,
   "metadata": {},
   "outputs": [],
   "source": [
    "\n",
    "#int : patrimoine\n",
    "patrimoine =  6\n",
    "\n",
    "#int : nb_A \n",
    "nb_A= 10000\n",
    "#int : nb_B \n",
    "nb_B= 10000\n",
    "#int : nb_C\n",
    "nb_C= 10000\n",
    "\n",
    "#int : PIB\n",
    "PIB = 13000\n",
    "\n",
    "#float : ind_eduA, ind_eduB, ind_secA, ind_secB\n",
    "ind_eduA = 27.8\n",
    "ind_eduB = 89\n",
    "ind_secA = 37\n",
    "ind_secB = 64\n",
    "\n",
    "#float : taux_impotB, taux_impotC, ind_eduC, ind_secC\n",
    "taux_impotB = 0.5\n",
    "taux_impotC = 0.15\n",
    "ind_eduC = 75.6\n",
    "ind_secC = 88.4\n",
    "\n"
   ]
  },
  {
   "cell_type": "code",
   "execution_count": 248,
   "metadata": {
    "scrolled": true
   },
   "outputs": [
    {
     "data": {
      "text/plain": [
       "{'A': 8961, 'B': 11679, 'C': 10700}"
      ]
     },
     "execution_count": 248,
     "metadata": {},
     "output_type": "execute_result"
    }
   ],
   "source": [
    "evolution_tot(1)"
   ]
  },
  {
   "cell_type": "code",
   "execution_count": 249,
   "metadata": {
    "scrolled": false
   },
   "outputs": [
    {
     "data": {
      "image/png": "[encoded data removed]",
      "text/plain": [
       "<Figure size 432x288 with 1 Axes>"
      ]
     },
     "metadata": {
      "needs_background": "light"
     },
     "output_type": "display_data"
    },
    {
     "data": {
      "text/plain": [
       "{'A': 3336, 'B': 29601, 'C': 22144}"
      ]
     },
     "execution_count": 249,
     "metadata": {},
     "output_type": "execute_result"
    }
   ],
   "source": [
    "import matplotlib.pyplot as plt\n",
    "import numpy as np\n",
    "\n",
    "#dict[char : int] : res\n",
    "res = evolution_tot(10)\n",
    "\n",
    "fig = plt.figure()\n",
    "\n",
    "x = [1,2, 3, 4, 5]\n",
    "height = [res[\"A\"],0,  res[\"B\"],0 ,res[\"C\"]]\n",
    "width = 1.0\n",
    "\n",
    "plt.bar(x, height, width, color='b' )\n",
    "\n",
    "\n",
    "plt.savefig('SimpleBar.png')\n",
    "plt.show()\n",
    "\n",
    "res"
   ]
  },
  {
   "cell_type": "markdown",
   "metadata": {},
   "source": [
    "\n",
    "En faisant varier les différentes valeurs participant à ces équations, on voit rapidement que l’aspect social (éducation, sécurité…) est bien plus important que l’aspect économique dans la répartition des individus riches dans le monde.\n",
    "\n",
    "Des pays tels que la Cote d’Ivoire ou L’Égypte, ayant une évolution interne du nombre d'individus riches croissante subissent le fort taux de départ pour les pays \"occidentaux\" comme la France, la Grande Bretagne ou encore les USA. Ainsi, le nombre d'individus riches dans les pays de la zone A est en baisse et cela est dû notamment à des facteurs géopolitiques (Guerres, Embargos,…).\n",
    "\n",
    "Ensuite, la zone B pourrait représenter des pays tels que le nôtre où on note une forte croissance du nombre d'individus riches (+12% en moyenne sur 10 ans pour notre modèle). Cependant, des raisons fiscales peuvent les pousser à quitter leur pays d’origine pour aller vers des pays économiquement plus avantageux tels que les pays de la zone C.\n",
    "\n",
    "Ainsi, la recherche d’un pays plus sûr, avec un meilleur système éducatif et/ou économique sont les raisons principales qui poussent les personnes riches à quitter leur pays d’origine.\n"
   ]
  },
  {
   "cell_type": "markdown",
   "metadata": {},
   "source": [
    "---------------------------------------------------------------------------------------------------------------------"
   ]
  },
  {
   "cell_type": "markdown",
   "metadata": {},
   "source": [
    "# *Conclusion*\n",
    "\n",
    "\n",
    "A la vue du projet, nous constatons que nous avons pu mettre en relief l’importance de chacun des facteurs d’évolution que nous avions jugé intéressants d’intégrer à notre modélisation. Par ailleurs, les résultats associés sont cohérents d’un point de vue informatique mais surtout logique : ils correspondent bien à ce qu’on imaginerait obtenir dans la réalité si on appliquait les mêmes simplifications. \n",
    "\n",
    "De plus, même en tenant compte de ces dernières, les conclusions obtenues fournissent une approximation plutôt vraisemblable des phénomènes d’évolution réels pour la zone B, notamment quand on compare les résultats d’évolution du projet avec ceux de la France (entre +10 et 11% par an) pour des paramètres similaires.  \n",
    "\n",
    "Finalement, ce travail de recherche et de production a été l’occasion d’apprendre à adopter un point de vue pragmatique face à une nécessité de modéliser un phénomène particulier. Cela nous a permis de développer notre esprit critique aussi bien lors de l’écriture d’un code que dans la recherche d’informations ou dans la confrontation d’idées au sein d’un groupe, le but étant d’obtenir des résultats justes mais également exploitables et pertinents.\n"
   ]
  },
  {
   "cell_type": "markdown",
   "metadata": {},
   "source": [
    "---------------------------------------------------------------------------------------------------------------------"
   ]
  },
  {
   "cell_type": "markdown",
   "metadata": {},
   "source": [
    "## Bibliographie \n",
    "\n",
    "*ANNALES D’ÉCONOMIE ET DE STATISTIQUE. – N° 82 – 2006 - ENSAE*\n",
    "\n",
    "\"https://annals.ensae.fr/wp-content/uploads/pdf/n82/vol82-07.pdf\"\n",
    "\n",
    "*Indices de securité* \n",
    "\n",
    "\"https://safearound.com/fr/danger-rankings/\"\n",
    "\n",
    "*DATA BASE de Thomas Piketty*\n",
    "\n",
    "\"https://wid.world/fr/donnees/\"\n",
    "\n",
    "*Indices d'education*\n",
    "\n",
    "\"https://www.topuniversities.com/system-strength-rankings/2016#sorting=rank+custom=rank+order=desc+search=\"\n",
    "\n",
    "*Comparaison des taux d'impositions* \n",
    "\n",
    "-\"http://www.estv2.admin.ch/f/dienstleistungen/steuerrechner/2018/ge.php\"\n",
    "\n",
    "-\"https://www.gov.uk/government/organisations/hm-revenue-customs\"\n",
    "\n",
    "-\"https://www3.impots.gouv.fr/simulateur/calcul_impot/2019/index.htm\""
   ]
  },
  {
   "cell_type": "markdown",
   "metadata": {},
   "source": [
    "---------------------------------------------------------------------------------------------------------------------"
   ]
  },
  {
   "cell_type": "markdown",
   "metadata": {},
   "source": [
    "*KHALID Ruhma* \n",
    "\n",
    "*CEYLON Nathanel*\n",
    "\n",
    "*BESSONNEAU Lucas*\n",
    "\n",
    "*CHAUCHOT Grégoire*"
   ]
  },
  {
   "cell_type": "markdown",
   "metadata": {},
   "source": [
    "---------------------------------------------------------------------------------------------------------------------"
   ]
  }
 ],
 "metadata": {
  "celltoolbar": "Format de la Cellule Texte Brut",
  "kernelspec": {
   "display_name": "Python 3",
   "language": "python",
   "name": "python3"
  },
  "language_info": {
   "codemirror_mode": {
    "name": "ipython",
    "version": 3
   },
   "file_extension": ".py",
   "mimetype": "text/x-python",
   "name": "python",
   "nbconvert_exporter": "python",
   "pygments_lexer": "ipython3",
   "version": "3.7.1"
  }
 },
 "nbformat": 4,
 "nbformat_minor": 2
}
